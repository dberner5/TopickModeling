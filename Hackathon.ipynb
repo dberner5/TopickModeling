{
 "cells": [
  {
   "cell_type": "code",
   "execution_count": 1,
   "metadata": {},
   "outputs": [
    {
     "name": "stdout",
     "output_type": "stream",
     "text": [
      "C:\\Users\\BernerDaniel\\Anaconda3\\envs\\Python3.6\\python.exe\n"
     ]
    }
   ],
   "source": [
    "import sys\n",
    "print(sys.executable) "
   ]
  },
  {
   "cell_type": "code",
   "execution_count": 2,
   "metadata": {},
   "outputs": [],
   "source": [
    "import numpy as np\n",
    "import guidedlda"
   ]
  },
  {
   "cell_type": "code",
   "execution_count": 3,
   "metadata": {},
   "outputs": [],
   "source": [
    "X = guidedlda.datasets.load_data(guidedlda.datasets.NYT)\n",
    "vocab = guidedlda.datasets.load_vocab(guidedlda.datasets.NYT)\n",
    "word2id = dict((v, idx) for idx, v in enumerate(vocab))"
   ]
  },
  {
   "cell_type": "code",
   "execution_count": 7,
   "metadata": {},
   "outputs": [
    {
     "data": {
      "text/plain": [
       "(8447, 3012)"
      ]
     },
     "execution_count": 7,
     "metadata": {},
     "output_type": "execute_result"
    }
   ],
   "source": [
    "X.shape"
   ]
  },
  {
   "cell_type": "code",
   "execution_count": 9,
   "metadata": {},
   "outputs": [
    {
     "data": {
      "text/plain": [
       "1221626"
      ]
     },
     "execution_count": 9,
     "metadata": {},
     "output_type": "execute_result"
    }
   ],
   "source": [
    "X.sum()"
   ]
  },
  {
   "cell_type": "code",
   "execution_count": 10,
   "metadata": {},
   "outputs": [
    {
     "name": "stderr",
     "output_type": "stream",
     "text": [
      "INFO:guidedlda:n_documents: 8447\n",
      "INFO:guidedlda:vocab_size: 3012\n",
      "INFO:guidedlda:n_words: 1221626\n",
      "INFO:guidedlda:n_topics: 5\n",
      "INFO:guidedlda:n_iter: 100\n",
      "WARNING:guidedlda:all zero column in document-term matrix found\n",
      "INFO:guidedlda:<0> log likelihood: -11489265\n",
      "INFO:guidedlda:<20> log likelihood: -9844667\n",
      "INFO:guidedlda:<40> log likelihood: -9694223\n",
      "INFO:guidedlda:<60> log likelihood: -9642506\n",
      "INFO:guidedlda:<80> log likelihood: -9617962\n",
      "INFO:guidedlda:<99> log likelihood: -9604031\n"
     ]
    },
    {
     "data": {
      "text/plain": [
       "<guidedlda.guidedlda.GuidedLDA at 0x26a6d3f1828>"
      ]
     },
     "execution_count": 10,
     "metadata": {},
     "output_type": "execute_result"
    }
   ],
   "source": [
    "# Normal LDA without seeding\n",
    "model = guidedlda.GuidedLDA(n_topics=5, n_iter=100, random_state=7, refresh=20)\n",
    "model.fit(X)"
   ]
  },
  {
   "cell_type": "code",
   "execution_count": 15,
   "metadata": {},
   "outputs": [
    {
     "name": "stdout",
     "output_type": "stream",
     "text": [
      "Topic 0: game play team win season player second point start victory\n",
      "Topic 1: company percent market price business sell pay plan executive buy\n",
      "Topic 2: play life man music place turn book woman write thing\n",
      "Topic 3: official government state political leader states issue member case country\n",
      "Topic 4: school child city family problem student life program group state\n"
     ]
    }
   ],
   "source": [
    "topic_word = model.topic_word_\n",
    "n_top_words = 10\n",
    "for i, topic_dist in enumerate(topic_word):\n",
    "    topic_words = np.array(vocab)[np.argsort(topic_dist)][:-(n_top_words+1):-1]\n",
    "    print('Topic {}: {}'.format(i, ' '.join(topic_words)))"
   ]
  },
  {
   "cell_type": "code",
   "execution_count": 18,
   "metadata": {},
   "outputs": [
    {
     "name": "stderr",
     "output_type": "stream",
     "text": [
      "INFO:guidedlda:n_documents: 8447\n",
      "INFO:guidedlda:vocab_size: 3012\n",
      "INFO:guidedlda:n_words: 1221626\n",
      "INFO:guidedlda:n_topics: 6\n",
      "INFO:guidedlda:n_iter: 100\n",
      "WARNING:guidedlda:all zero column in document-term matrix found\n",
      "INFO:guidedlda:<0> log likelihood: -11763504\n",
      "INFO:guidedlda:<20> log likelihood: -9809707\n",
      "INFO:guidedlda:<40> log likelihood: -9703426\n",
      "INFO:guidedlda:<60> log likelihood: -9666706\n",
      "INFO:guidedlda:<80> log likelihood: -9647040\n",
      "INFO:guidedlda:<99> log likelihood: -9638138\n"
     ]
    },
    {
     "data": {
      "text/plain": [
       "<guidedlda.guidedlda.GuidedLDA at 0x26a6d41b6d8>"
      ]
     },
     "execution_count": 18,
     "metadata": {},
     "output_type": "execute_result"
    }
   ],
   "source": [
    "# Guided LDA with seed topics.\n",
    "seed_topic_list = [['game', 'team', 'win', 'player', 'season', 'second', 'victory'],\n",
    "                   ['percent', 'company', 'market', 'price', 'sell', 'business', 'stock', 'share'],\n",
    "                   ['music', 'write', 'art', 'book', 'world', 'film'],\n",
    "                   ['political', 'government', 'leader', 'official', 'state', 'country'],\n",
    "                   ['american','case', 'law', 'police', 'charge', 'officer', 'kill', 'arrest', 'lawyer']]\n",
    "\n",
    "model = guidedlda.GuidedLDA(len(seed_topic_list) + 1, n_iter=100, random_state=7, refresh=20)\n",
    "\n",
    "seed_topics = {}\n",
    "for t_id, st in enumerate(seed_topic_list):\n",
    "    for word in st:\n",
    "        seed_topics[word2id[word]] = t_id\n",
    "\n",
    "model.fit(X, seed_topics=seed_topics, seed_confidence=0.15)"
   ]
  },
  {
   "cell_type": "code",
   "execution_count": 19,
   "metadata": {},
   "outputs": [
    {
     "name": "stdout",
     "output_type": "stream",
     "text": [
      "Topic 0: game play team win season player second start point lose\n",
      "Topic 1: company percent market price business sell sale buy pay executive\n",
      "Topic 2: play life man place music turn thing write book old\n",
      "Topic 3: political government leader state official issue country states support vote\n",
      "Topic 4: police official case charge man lawyer kill court officer report\n",
      "Topic 5: school child program study student father family group problem public\n"
     ]
    }
   ],
   "source": [
    "n_top_words = 10\n",
    "topic_word = model.topic_word_\n",
    "for i, topic_dist in enumerate(topic_word):\n",
    "    topic_words = np.array(vocab)[np.argsort(topic_dist)][:-(n_top_words+1):-1]\n",
    "    print('Topic {}: {}'.format(i, ' '.join(topic_words)))"
   ]
  },
  {
   "cell_type": "code",
   "execution_count": 20,
   "metadata": {},
   "outputs": [
    {
     "name": "stderr",
     "output_type": "stream",
     "text": [
      "WARNING:guidedlda:all zero column in document-term matrix found\n"
     ]
    },
    {
     "name": "stdout",
     "output_type": "stream",
     "text": [
      "top topic: 5 Document: plant, increase, food, increasingly, animal\n",
      "top topic: 3 Document: explain, life, country, citizen, nation\n",
      "top topic: 2 Document: thing, solve, problem, machine, carry\n",
      "top topic: 2 Document: company, authority, opera, artistic, director\n",
      "top topic: 4 Document: wife, rape, husband, file, state\n",
      "top topic: 4 Document: partner, lawyer, attorney, client, indict\n",
      "top topic: 2 Document: roll, place, soon, treat, rating\n",
      "top topic: 5 Document: city, drug, program, commission, report\n",
      "top topic: 1 Document: company, comic, series, case, executive\n"
     ]
    }
   ],
   "source": [
    "# Document-Topic breakdown\n",
    "doc_topic = model.transform(X)\n",
    "for i in range(9):\n",
    "    print(\"top topic: {} Document: {}\".format(doc_topic[i].argmax(),\n",
    "                                                  ', '.join(np.array(vocab)[list(reversed(X[i,:].argsort()))[0:5]])))"
   ]
  },
  {
   "cell_type": "code",
   "execution_count": 21,
   "metadata": {},
   "outputs": [],
   "source": [
    "# Next step will lighten the model object to make the file smaller when pickling\n",
    "# This step will delete some matrices inside the model.\n",
    "# you will be able to use model.transform(X) the same way as earlier.\n",
    "# you wont be able to use model.fit_transform(X_new)\n",
    "model.purge_extra_matrices()"
   ]
  },
  {
   "cell_type": "code",
   "execution_count": 22,
   "metadata": {},
   "outputs": [
    {
     "name": "stderr",
     "output_type": "stream",
     "text": [
      "WARNING:guidedlda:all zero column in document-term matrix found\n"
     ]
    }
   ],
   "source": [
    "# Save the model for production or for running later\n",
    "from six.moves import cPickle as pickle\n",
    "with open('guidedlda_model.pickle', 'wb') as file_handle:\n",
    "    pickle.dump(model, file_handle)\n",
    "# load the model for prediction\n",
    "with open('guidedlda_model.pickle', 'rb') as file_handle:\n",
    "    model = pickle.load(file_handle)\n",
    "doc_topic = model.transform(X)"
   ]
  },
  {
   "cell_type": "code",
   "execution_count": null,
   "metadata": {},
   "outputs": [],
   "source": []
  }
 ],
 "metadata": {
  "kernelspec": {
   "display_name": "Python 3",
   "language": "python",
   "name": "python3"
  },
  "language_info": {
   "codemirror_mode": {
    "name": "ipython",
    "version": 3
   },
   "file_extension": ".py",
   "mimetype": "text/x-python",
   "name": "python",
   "nbconvert_exporter": "python",
   "pygments_lexer": "ipython3",
   "version": "3.6.9"
  }
 },
 "nbformat": 4,
 "nbformat_minor": 4
}
